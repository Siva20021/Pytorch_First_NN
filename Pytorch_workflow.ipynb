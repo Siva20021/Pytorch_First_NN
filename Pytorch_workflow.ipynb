{
  "nbformat": 4,
  "nbformat_minor": 0,
  "metadata": {
    "colab": {
      "provenance": [],
      "toc_visible": true
    },
    "kernelspec": {
      "name": "python3",
      "display_name": "Python 3"
    },
    "language_info": {
      "name": "python"
    }
  },
  "cells": [
    {
      "cell_type": "code",
      "execution_count": 1,
      "metadata": {
        "id": "JVLUdh410FLe"
      },
      "outputs": [],
      "source": [
        "#PyTorch workflow\n",
        "import torch \n",
        "from torch import nn "
      ]
    },
    {
      "cell_type": "markdown",
      "source": [
        "NN contains all neural networks of Pytorch "
      ],
      "metadata": {
        "id": "gy8P7LYyoCgD"
      }
    },
    {
      "cell_type": "code",
      "source": [
        "import matplotlib"
      ],
      "metadata": {
        "id": "zWywJFEQoAuf"
      },
      "execution_count": 2,
      "outputs": []
    },
    {
      "cell_type": "code",
      "source": [
        "import matplotlib.pyplot as plt"
      ],
      "metadata": {
        "id": "B7OzkWXGoWOi"
      },
      "execution_count": 3,
      "outputs": []
    },
    {
      "cell_type": "code",
      "source": [
        "torch.__version__"
      ],
      "metadata": {
        "colab": {
          "base_uri": "https://localhost:8080/",
          "height": 35
        },
        "id": "B86jBCW4oZf5",
        "outputId": "74c6cc23-e2cc-4dc3-dde6-f406b7a60d7d"
      },
      "execution_count": 4,
      "outputs": [
        {
          "output_type": "execute_result",
          "data": {
            "text/plain": [
              "'1.13.0+cu116'"
            ],
            "application/vnd.google.colaboratory.intrinsic+json": {
              "type": "string"
            }
          },
          "metadata": {},
          "execution_count": 4
        }
      ]
    },
    {
      "cell_type": "code",
      "source": [
        "## Data (Preparing and Loading)"
      ],
      "metadata": {
        "id": "a6WGGgbdocCR"
      },
      "execution_count": 5,
      "outputs": []
    },
    {
      "cell_type": "code",
      "source": [],
      "metadata": {
        "id": "PSpk3uWnomOc"
      },
      "execution_count": 5,
      "outputs": []
    },
    {
      "cell_type": "markdown",
      "source": [
        "Machine learning key steps:\n",
        "\n",
        " \n",
        "\n",
        "\n",
        "*   Take Inputs \n",
        "*   Convert that input in the form of numericals\n",
        "*   With the numericals obtained try to represent the numericals as Patterns \n",
        "*   The Represented Pattern Must be then converted to an appropriate Output \n",
        "\n",
        "\n"
      ],
      "metadata": {
        "id": "eSjhrMRgo-MF"
      }
    },
    {
      "cell_type": "markdown",
      "source": [
        "We will use a linear regression formula to make a straight line without a **known parameter**"
      ],
      "metadata": {
        "id": "7FtgX0nFqEKX"
      }
    },
    {
      "cell_type": "code",
      "source": [
        "weight=0.7\n",
        "bias=0.3"
      ],
      "metadata": {
        "id": "AxUOm1t6pb5y"
      },
      "execution_count": 6,
      "outputs": []
    },
    {
      "cell_type": "markdown",
      "source": [
        "In the Above eqn of Y=aX+b our a will be weight and bias will be b"
      ],
      "metadata": {
        "id": "34FXcgLOqVHj"
      }
    },
    {
      "cell_type": "code",
      "source": [
        "#Create \n",
        "start=0\n",
        "end=1\n",
        "step=0.02\n",
        "X=torch.arange(start,end,step).unsqueeze(dim=1)\n",
        "y=weight*X+bias"
      ],
      "metadata": {
        "id": "jT8d8QlnqTD5"
      },
      "execution_count": 7,
      "outputs": []
    },
    {
      "cell_type": "code",
      "source": [
        "X[:10],y[:10]"
      ],
      "metadata": {
        "colab": {
          "base_uri": "https://localhost:8080/",
          "height": 0
        },
        "id": "s5tILfNTqtLr",
        "outputId": "358adaf5-19c9-4336-d646-e2abe351af3b"
      },
      "execution_count": 8,
      "outputs": [
        {
          "output_type": "execute_result",
          "data": {
            "text/plain": [
              "(tensor([[0.0000],\n",
              "         [0.0200],\n",
              "         [0.0400],\n",
              "         [0.0600],\n",
              "         [0.0800],\n",
              "         [0.1000],\n",
              "         [0.1200],\n",
              "         [0.1400],\n",
              "         [0.1600],\n",
              "         [0.1800]]), tensor([[0.3000],\n",
              "         [0.3140],\n",
              "         [0.3280],\n",
              "         [0.3420],\n",
              "         [0.3560],\n",
              "         [0.3700],\n",
              "         [0.3840],\n",
              "         [0.3980],\n",
              "         [0.4120],\n",
              "         [0.4260]]))"
            ]
          },
          "metadata": {},
          "execution_count": 8
        }
      ]
    },
    {
      "cell_type": "code",
      "source": [
        "len(X),len(y)"
      ],
      "metadata": {
        "colab": {
          "base_uri": "https://localhost:8080/",
          "height": 0
        },
        "id": "MhQnHRY5q7zs",
        "outputId": "b44f7d79-976e-48c0-9b13-6047efd284b6"
      },
      "execution_count": 9,
      "outputs": [
        {
          "output_type": "execute_result",
          "data": {
            "text/plain": [
              "(50, 50)"
            ]
          },
          "metadata": {},
          "execution_count": 9
        }
      ]
    },
    {
      "cell_type": "markdown",
      "source": [
        "### Splitting Data into training and test sets (one of the most important concepts in machine learning in general)\n",
        "\n",
        "Three Datasets\n",
        "*   **Training set**: Model learns pattern from here . For Example:Course Materials . For training data we will be choosing 60-80% of data\n",
        "*   **Validation set**: Practice Exams. For Validation 10-20% of data is choosed\n",
        "*   **Test set**: Final Exams. For training 10-20% of data is choosed\n",
        "\n",
        "\n"
      ],
      "metadata": {
        "id": "LlWuMD3yta_c"
      }
    },
    {
      "cell_type": "markdown",
      "source": [
        "Let's create a training and test set with our data "
      ],
      "metadata": {
        "id": "dbAMRdZGwPXm"
      }
    },
    {
      "cell_type": "code",
      "source": [
        "train_split=int(0.8* len(X))\n",
        "X_train,y_train=X[:train_split],y[:train_split]\n",
        "X_test,y_test=X[train_split:],y[train_split:] "
      ],
      "metadata": {
        "id": "ka8HnrG5rby8"
      },
      "execution_count": 10,
      "outputs": []
    },
    {
      "cell_type": "code",
      "source": [
        "len(X_train),len(y_train),len(X_test),len(y_test)"
      ],
      "metadata": {
        "colab": {
          "base_uri": "https://localhost:8080/",
          "height": 0
        },
        "id": "ClSDPtE9wre7",
        "outputId": "78b1685b-ba97-4195-8926-ad5d182656cc"
      },
      "execution_count": 11,
      "outputs": [
        {
          "output_type": "execute_result",
          "data": {
            "text/plain": [
              "(40, 40, 10, 10)"
            ]
          },
          "metadata": {},
          "execution_count": 11
        }
      ]
    },
    {
      "cell_type": "markdown",
      "source": [
        "How might we better visualise the data"
      ],
      "metadata": {
        "id": "5sUlx98Lx6D1"
      }
    },
    {
      "cell_type": "code",
      "source": [
        "def plot_predictions(train_data=X_train,train_labels=y_train,test_data=X_test,test_labels=y_test,predictions=None):\n",
        "  plt.figure(figsize=(10,7))\n",
        "  #Plots in blue \n",
        "  plt.scatter(train_data,train_labels,c=\"b\",s=4,label=\"Training data\")\n",
        "  #Plots in green \n",
        "  plt.scatter(test_data,test_labels,c=\"g\",s=4,label=\"Test data\")\n",
        "  #Are there predicitions?\n",
        "  if predictions is not None:\n",
        "    #Plot the Predictions if they exist \n",
        "    plt.scatter(test_data,predictions,c=\"r\",s=4,label=\"Predictions\")\n",
        "  plt.legend(prop={\"size\":14});"
      ],
      "metadata": {
        "id": "23ZLefLmxgcK"
      },
      "execution_count": 12,
      "outputs": []
    },
    {
      "cell_type": "code",
      "source": [
        "plot_predictions();"
      ],
      "metadata": {
        "colab": {
          "base_uri": "https://localhost:8080/",
          "height": 428
        },
        "id": "PrTigZLKzc0c",
        "outputId": "76ad0d39-6838-4ba5-9465-0031ae4b4ff1"
      },
      "execution_count": 13,
      "outputs": [
        {
          "output_type": "display_data",
          "data": {
            "text/plain": [
              "<Figure size 720x504 with 1 Axes>"
            ],
            "image/png": "[encoded data removed]"
          },
          "metadata": {
            "needs_background": "light"
          }
        }
      ]
    },
    {
      "cell_type": "markdown",
      "source": [
        "#Building model \n",
        "\n",
        "Our First Pytorch Model !\n",
        "\n"
      ],
      "metadata": {
        "id": "BxGYiJNL26LX"
      }
    },
    {
      "cell_type": "code",
      "source": [
        "from torch import nn \n",
        "\n",
        "#Create linear regression model class \n",
        "#nn.module-is the base class of all neural networks model which contains all model for the neural networks  \n",
        "class LinearRegressionModel(nn.Module):  #<- almost everything in PyTorch \n",
        "  def __init__(self):\n",
        "    super().__init__()\n",
        "    self.weights = nn.Parameter(torch.randn(1,requires_grad=True,dtype=torch.float))\n",
        "    #requires.grad=True means Pytorch will track the gradients of this specific parameter for use with torch.autograd\n",
        "    self.bias=nn.Parameter(torch.randn(1,requires_grad=True,dtype=torch.float))\n",
        "    \n",
        "  def forward(self,x:torch.Tensor)->torch.Tensor:\n",
        "      return self.weights *x + self.bias #This is the linear regression formula \n",
        "    "
      ],
      "metadata": {
        "id": "-vdWjVV6zyxF"
      },
      "execution_count": 14,
      "outputs": []
    },
    {
      "cell_type": "markdown",
      "source": [
        "**What our model does** \n",
        "\n",
        "\n",
        "*   Starts with random values (weight & bias)\n",
        "*   Look at training data and adjust the random values to better represent (or get closer to) the ideal values (the weight and bias values we used to create the data)\n",
        "\n",
        "**How does it do so?**\n",
        "\n",
        "Through two main algorithms:\n",
        "1. Gradient descent \n",
        "2. Backpropagation\n",
        "\n",
        "\n"
      ],
      "metadata": {
        "id": "oj9_JWmi5f20"
      }
    },
    {
      "cell_type": "markdown",
      "source": [
        "### Pytorch model building essentials \n",
        "* torch.nn - contains all the buildings for computational graphs \n",
        "* torch.nn.Parameter - what parameters should our model try and learn ,\n",
        "* torch.nn.Module - The base class for all neural network modules , if you subclass it, you should overwrite forward()\n",
        "* torch.optim - This where the optimizers in PyTorch live,they will help with gradient descent \n",
        "* def forward()- All nn.module subclasses require you to overwrite forward(),this method defines what happens in the forward computation \n",
        "\n",
        "\n",
        "\n",
        "\n"
      ],
      "metadata": {
        "id": "G1yaOHRL99my"
      }
    },
    {
      "cell_type": "markdown",
      "source": [
        "### Checking the contents of our Pytorch Model \n",
        "Now we've created a model let's see what's inside \n",
        "So we can check our model parameters or what's inside our model using .parameters()"
      ],
      "metadata": {
        "id": "WpTRSLfi3Og8"
      }
    },
    {
      "cell_type": "code",
      "source": [
        "torch.manual_seed(42)\n",
        "model_0=LinearRegressionModel()\n",
        "model_0"
      ],
      "metadata": {
        "id": "PwI3ZwDT5_dW",
        "colab": {
          "base_uri": "https://localhost:8080/",
          "height": 0
        },
        "outputId": "b9f8c1d5-ba97-4491-afac-fef204966cb6"
      },
      "execution_count": 15,
      "outputs": [
        {
          "output_type": "execute_result",
          "data": {
            "text/plain": [
              "LinearRegressionModel()"
            ]
          },
          "metadata": {},
          "execution_count": 15
        }
      ]
    },
    {
      "cell_type": "code",
      "source": [
        "list(model_0.parameters())"
      ],
      "metadata": {
        "colab": {
          "base_uri": "https://localhost:8080/",
          "height": 0
        },
        "id": "Qnl77jrm36cF",
        "outputId": "b78096a2-a421-4185-9001-4589209adcad"
      },
      "execution_count": 16,
      "outputs": [
        {
          "output_type": "execute_result",
          "data": {
            "text/plain": [
              "[Parameter containing:\n",
              " tensor([0.3367], requires_grad=True), Parameter containing:\n",
              " tensor([0.1288], requires_grad=True)]"
            ]
          },
          "metadata": {},
          "execution_count": 16
        }
      ]
    },
    {
      "cell_type": "markdown",
      "source": [
        "\n",
        "This manual seed will make the desired value within an inclusive range "
      ],
      "metadata": {
        "id": "5rGgOICg5HNU"
      }
    },
    {
      "cell_type": "code",
      "source": [
        "model_0.state_dict()"
      ],
      "metadata": {
        "colab": {
          "base_uri": "https://localhost:8080/",
          "height": 0
        },
        "id": "CalXMQfR4aAc",
        "outputId": "16c38dc5-0099-4ef0-8107-ffa428283f1c"
      },
      "execution_count": 17,
      "outputs": [
        {
          "output_type": "execute_result",
          "data": {
            "text/plain": [
              "OrderedDict([('weights', tensor([0.3367])), ('bias', tensor([0.1288]))])"
            ]
          },
          "metadata": {},
          "execution_count": 17
        }
      ]
    },
    {
      "cell_type": "code",
      "source": [
        "weight,bias"
      ],
      "metadata": {
        "colab": {
          "base_uri": "https://localhost:8080/",
          "height": 0
        },
        "id": "vPnUFLZZ5eLr",
        "outputId": "7d035ea3-21ba-4a59-e26a-1a8d83e4d79d"
      },
      "execution_count": 18,
      "outputs": [
        {
          "output_type": "execute_result",
          "data": {
            "text/plain": [
              "(0.7, 0.3)"
            ]
          },
          "metadata": {},
          "execution_count": 18
        }
      ]
    },
    {
      "cell_type": "markdown",
      "source": [
        "We must start it with a random value and we should make it ensure that the random values which we had selected must be in the range which is same as the ideal values "
      ],
      "metadata": {
        "id": "UWDuu1r35yQL"
      }
    },
    {
      "cell_type": "markdown",
      "source": [
        "### Making Prediction using torch.inference_mode()\n",
        "\n",
        "To check our model's predictive power,let's see how well it predicts y_test based on X_test\n",
        "When we pass data through our model, it's going to run it through the forward() method "
      ],
      "metadata": {
        "id": "3RoTo74M6r2c"
      }
    },
    {
      "cell_type": "code",
      "source": [
        "X_test,y_test"
      ],
      "metadata": {
        "colab": {
          "base_uri": "https://localhost:8080/",
          "height": 0
        },
        "id": "gDCy0XSY7Mc4",
        "outputId": "2d6548d8-6bf7-4834-d773-ade96e5f63a2"
      },
      "execution_count": 19,
      "outputs": [
        {
          "output_type": "execute_result",
          "data": {
            "text/plain": [
              "(tensor([[0.8000],\n",
              "         [0.8200],\n",
              "         [0.8400],\n",
              "         [0.8600],\n",
              "         [0.8800],\n",
              "         [0.9000],\n",
              "         [0.9200],\n",
              "         [0.9400],\n",
              "         [0.9600],\n",
              "         [0.9800]]), tensor([[0.8600],\n",
              "         [0.8740],\n",
              "         [0.8880],\n",
              "         [0.9020],\n",
              "         [0.9160],\n",
              "         [0.9300],\n",
              "         [0.9440],\n",
              "         [0.9580],\n",
              "         [0.9720],\n",
              "         [0.9860]]))"
            ]
          },
          "metadata": {},
          "execution_count": 19
        }
      ]
    },
    {
      "cell_type": "code",
      "source": [
        "#Make predictions with model\n",
        "with torch.inference_mode():\n",
        "  y_preds = model_0(X_test)\n",
        "\n",
        "y_preds"
      ],
      "metadata": {
        "colab": {
          "base_uri": "https://localhost:8080/",
          "height": 0
        },
        "id": "8xaonooh6qCr",
        "outputId": "866029a4-479f-434f-9068-2ee4f6bc45fc"
      },
      "execution_count": 20,
      "outputs": [
        {
          "output_type": "execute_result",
          "data": {
            "text/plain": [
              "tensor([[0.3982],\n",
              "        [0.4049],\n",
              "        [0.4116],\n",
              "        [0.4184],\n",
              "        [0.4251],\n",
              "        [0.4318],\n",
              "        [0.4386],\n",
              "        [0.4453],\n",
              "        [0.4520],\n",
              "        [0.4588]])"
            ]
          },
          "metadata": {},
          "execution_count": 20
        }
      ]
    },
    {
      "cell_type": "code",
      "source": [
        "y_test"
      ],
      "metadata": {
        "colab": {
          "base_uri": "https://localhost:8080/",
          "height": 0
        },
        "id": "yv8u5leX7EWl",
        "outputId": "1d110610-c72f-49ba-ed12-b0087ea0d4f4"
      },
      "execution_count": 21,
      "outputs": [
        {
          "output_type": "execute_result",
          "data": {
            "text/plain": [
              "tensor([[0.8600],\n",
              "        [0.8740],\n",
              "        [0.8880],\n",
              "        [0.9020],\n",
              "        [0.9160],\n",
              "        [0.9300],\n",
              "        [0.9440],\n",
              "        [0.9580],\n",
              "        [0.9720],\n",
              "        [0.9860]])"
            ]
          },
          "metadata": {},
          "execution_count": 21
        }
      ]
    },
    {
      "cell_type": "code",
      "source": [
        "plot_predictions(predictions=y_preds)"
      ],
      "metadata": {
        "colab": {
          "base_uri": "https://localhost:8080/",
          "height": 428
        },
        "id": "gQNPT2Y08cdh",
        "outputId": "1cd621e9-8f02-48b0-93b9-8c1151807822"
      },
      "execution_count": 22,
      "outputs": [
        {
          "output_type": "display_data",
          "data": {
            "text/plain": [
              "<Figure size 720x504 with 1 Axes>"
            ],
            "image/png": "[encoded data removed]"
          },
          "metadata": {
            "needs_background": "light"
          }
        }
      ]
    },
    {
      "cell_type": "markdown",
      "source": [
        "## 3. Train model \n",
        "The whole idea of training is for a model to move from some *unknown* parameters(these maybe random) to some *known* paramters.\n",
        "Or in other words from a poor representation of the data to a better representation of the data. \n",
        "One way to measure how poor or how wrong your models predictions are to use a loss function\n",
        "\n",
        "* Note: Loss function may also be called cost function or criterion in different areas. For our case, we're going to refer it as a loss function .\n",
        "\n",
        "Things we need to train:\n",
        "\n",
        "* **Loss Function:** A function to measure how wrong your model's prediction to the ideal outputs, lower is better. \n",
        "* **Optimizer:** Takes into account the loss of a model and adjust the model's parameters (example: weight and bias ) to imporve the loss function\n",
        "\n",
        "And specifically for PyTorch , we need\n",
        "* A training loop\n",
        "* A testing  loop\n"
      ],
      "metadata": {
        "id": "6LIqILBeC5i3"
      }
    },
    {
      "cell_type": "code",
      "source": [
        "list(model_0.parameters())\n"
      ],
      "metadata": {
        "colab": {
          "base_uri": "https://localhost:8080/",
          "height": 0
        },
        "id": "hUUeYrcc8yux",
        "outputId": "7f40eb4f-9243-4c5f-b9a9-171d38b431c3"
      },
      "execution_count": 23,
      "outputs": [
        {
          "output_type": "execute_result",
          "data": {
            "text/plain": [
              "[Parameter containing:\n",
              " tensor([0.3367], requires_grad=True), Parameter containing:\n",
              " tensor([0.1288], requires_grad=True)]"
            ]
          },
          "metadata": {},
          "execution_count": 23
        }
      ]
    },
    {
      "cell_type": "markdown",
      "source": [
        "**Mean absolute error**:\n",
        "  \n",
        "MAE_loss=  torch.mean(torch.abs(y_pred-y_test)\n",
        "   \n",
        "             [or]\n",
        "\n",
        "MAE_loss= torch.nn.L1Loss"
      ],
      "metadata": {
        "id": "n79ZnC3NI3Bu"
      }
    },
    {
      "cell_type": "code",
      "source": [
        "#Setup a loss function\n",
        "loss_fn = nn.L1Loss()\n",
        "\n",
        "#Setup an optimizer\n",
        "#We will be using stochastic gradient descent which means random Gradient Descent"
      ],
      "metadata": {
        "id": "WCETA80oEspN"
      },
      "execution_count": 24,
      "outputs": []
    },
    {
      "cell_type": "code",
      "source": [
        "#Checks out our model parameters\n",
        "optimizer=torch.optim.SGD(params=model_0.parameters(),lr=0.01)#learning rate"
      ],
      "metadata": {
        "id": "DZfsoYa8LlmT"
      },
      "execution_count": 25,
      "outputs": []
    },
    {
      "cell_type": "markdown",
      "source": [
        "Smaller  the learning rate the smaller the range in the parameter ."
      ],
      "metadata": {
        "id": "i0Ul0hWhm2IE"
      }
    },
    {
      "cell_type": "markdown",
      "source": [
        "For linear Regression model we can always choose SGD optimizer and the Mean absolute Error loss as they tend to give values which are closer to the problem set "
      ],
      "metadata": {
        "id": "ySeRdfYLnfeY"
      }
    },
    {
      "cell_type": "markdown",
      "source": [
        "### Building a training loop (and a testing loop) in PyTorch\n",
        "\n",
        "A couple of things we need in a training loop :\n",
        "* Loop through the data\n",
        "* Forward pass (this involves data moving through our model's `forward()` functions) - also called forward propogation\n",
        "* Calculate the loss (compare forward pass predictions to ground truth labels)\n",
        "* Optimizer zero grad\n",
        "* Loss Backward - move backwards through the network to calculate the gradients of each of the parameters of our model with respect to the loss\n",
        "(**backpropogation**)\n",
        "* Optimizer step - use the optimizer to adjust our model's parameters to try and improve the loss (**gradient descent**) \n",
        "\n"
      ],
      "metadata": {
        "id": "9g3kmJN-ob3N"
      }
    },
    {
      "cell_type": "code",
      "source": [
        "\n",
        "#An epoch is one loop through the data ...(this is a hyperparameter because we've set it ourselves)\n",
        "epochs = 200\n",
        "#Tracking different values\n",
        "epoch_count=[]\n",
        "loss_values=[]\n",
        "test_loss_values=[]\n",
        "\n",
        "###Training \n",
        "#0.Loop through the data \n",
        "for epoch in range(epochs):\n",
        "  #Set the model to training mode \n",
        "  model_0.train() #Trains mode in Pytorch sets all the parameters that require gradients  \n",
        "  #1.Forward Pass\n",
        "  y_pred=model_0(X_train)\n",
        "  #2.Calculate the loss \n",
        "  loss=loss_fn(y_pred,y_train)\n",
        "  #3. Optimizer zero grad\n",
        "  optimizer.zero_grad()\n",
        "  #4.Perform backpropogation on the loss with respect to the parameters of the model\n",
        "  loss.backward()\n",
        "  #5.Step the optimizer()(Perform gradient Descent)\n",
        "  optimizer.step() #By def\n",
        "  ###Testing\n",
        "  model_0.eval()  #Turns off Gradient Tracking\n",
        "  with torch.inference_mode(): #Turns of gradient tracking and other more things \n",
        "    #1.Forward pass\n",
        "    test_pred=model_0(X_test)\n",
        "    #2.Calculate the loss\n",
        "    test_loss=loss_fn(test_pred,y_test)\n",
        "  #Print out what's happening\n",
        "  if epoch % 10 == 0 :  \n",
        "    epoch_count.append(epoch)\n",
        "    loss_values.append(loss)\n",
        "    test_loss_values.append(test_loss)\n",
        "    print(f\"Epoch: {epoch} | Loss:{loss} | Test loss : {test_loss}\")\n",
        "    #Prints out model state dictionary()\n",
        "    print(model_0.state_dict())  "
      ],
      "metadata": {
        "colab": {
          "base_uri": "https://localhost:8080/",
          "height": 0
        },
        "id": "faR46b8HLrHg",
        "outputId": "c84233fc-0407-454d-93ac-f7a6a4bebd72"
      },
      "execution_count": 26,
      "outputs": [
        {
          "output_type": "stream",
          "name": "stdout",
          "text": [
            "Epoch: 0 | Loss:0.31288138031959534 | Test loss : 0.48106518387794495\n",
            "OrderedDict([('weights', tensor([0.3406])), ('bias', tensor([0.1388]))])\n",
            "Epoch: 10 | Loss:0.1976713240146637 | Test loss : 0.3463551998138428\n",
            "OrderedDict([('weights', tensor([0.3796])), ('bias', tensor([0.2388]))])\n",
            "Epoch: 20 | Loss:0.08908725529909134 | Test loss : 0.21729660034179688\n",
            "OrderedDict([('weights', tensor([0.4184])), ('bias', tensor([0.3333]))])\n",
            "Epoch: 30 | Loss:0.053148526698350906 | Test loss : 0.14464017748832703\n",
            "OrderedDict([('weights', tensor([0.4512])), ('bias', tensor([0.3768]))])\n",
            "Epoch: 40 | Loss:0.04543796554207802 | Test loss : 0.11360953003168106\n",
            "OrderedDict([('weights', tensor([0.4748])), ('bias', tensor([0.3868]))])\n",
            "Epoch: 50 | Loss:0.04167863354086876 | Test loss : 0.09919948130846024\n",
            "OrderedDict([('weights', tensor([0.4938])), ('bias', tensor([0.3843]))])\n",
            "Epoch: 60 | Loss:0.03818932920694351 | Test loss : 0.08886633068323135\n",
            "OrderedDict([('weights', tensor([0.5116])), ('bias', tensor([0.3788]))])\n",
            "Epoch: 70 | Loss:0.03476089984178543 | Test loss : 0.0805937647819519\n",
            "OrderedDict([('weights', tensor([0.5288])), ('bias', tensor([0.3718]))])\n",
            "Epoch: 80 | Loss:0.03132382780313492 | Test loss : 0.07232122868299484\n",
            "OrderedDict([('weights', tensor([0.5459])), ('bias', tensor([0.3648]))])\n",
            "Epoch: 90 | Loss:0.02788739837706089 | Test loss : 0.06473556160926819\n",
            "OrderedDict([('weights', tensor([0.5629])), ('bias', tensor([0.3573]))])\n",
            "Epoch: 100 | Loss:0.024458957836031914 | Test loss : 0.05646304413676262\n",
            "OrderedDict([('weights', tensor([0.5800])), ('bias', tensor([0.3503]))])\n",
            "Epoch: 110 | Loss:0.021020207554101944 | Test loss : 0.04819049686193466\n",
            "OrderedDict([('weights', tensor([0.5972])), ('bias', tensor([0.3433]))])\n",
            "Epoch: 120 | Loss:0.01758546568453312 | Test loss : 0.04060482233762741\n",
            "OrderedDict([('weights', tensor([0.6141])), ('bias', tensor([0.3358]))])\n",
            "Epoch: 130 | Loss:0.014155393466353416 | Test loss : 0.03233227878808975\n",
            "OrderedDict([('weights', tensor([0.6313])), ('bias', tensor([0.3288]))])\n",
            "Epoch: 140 | Loss:0.010716589167714119 | Test loss : 0.024059748277068138\n",
            "OrderedDict([('weights', tensor([0.6485])), ('bias', tensor([0.3218]))])\n",
            "Epoch: 150 | Loss:0.0072835334576666355 | Test loss : 0.016474086791276932\n",
            "OrderedDict([('weights', tensor([0.6654])), ('bias', tensor([0.3143]))])\n",
            "Epoch: 160 | Loss:0.0038517764769494534 | Test loss : 0.008201557211577892\n",
            "OrderedDict([('weights', tensor([0.6826])), ('bias', tensor([0.3073]))])\n",
            "Epoch: 170 | Loss:0.008932482451200485 | Test loss : 0.005023092031478882\n",
            "OrderedDict([('weights', tensor([0.6951])), ('bias', tensor([0.2993]))])\n",
            "Epoch: 180 | Loss:0.008932482451200485 | Test loss : 0.005023092031478882\n",
            "OrderedDict([('weights', tensor([0.6951])), ('bias', tensor([0.2993]))])\n",
            "Epoch: 190 | Loss:0.008932482451200485 | Test loss : 0.005023092031478882\n",
            "OrderedDict([('weights', tensor([0.6951])), ('bias', tensor([0.2993]))])\n"
          ]
        }
      ]
    },
    {
      "cell_type": "code",
      "source": [
        "with torch.inference_mode():\n",
        "  y_preds_new=model_0(X_test)\n"
      ],
      "metadata": {
        "id": "u5K7CDmB7h0n"
      },
      "execution_count": 27,
      "outputs": []
    },
    {
      "cell_type": "code",
      "source": [
        "model_0.state_dict()"
      ],
      "metadata": {
        "colab": {
          "base_uri": "https://localhost:8080/",
          "height": 0
        },
        "id": "tArEzNc1NIY3",
        "outputId": "2aa5e609-d0e8-4805-a018-6049591b0a05"
      },
      "execution_count": 28,
      "outputs": [
        {
          "output_type": "execute_result",
          "data": {
            "text/plain": [
              "OrderedDict([('weights', tensor([0.6990])), ('bias', tensor([0.3093]))])"
            ]
          },
          "metadata": {},
          "execution_count": 28
        }
      ]
    },
    {
      "cell_type": "code",
      "source": [
        "import numpy as np\n",
        "plt.plot(epoch_count,np.array(torch.tensor(loss_values).numpy()),label=\"Train loss\")\n",
        "plt.plot(epoch_count,test_loss_values,label=\"Test loss\")\n",
        "plt.title(\"Training and Test loss curves\")\n",
        "plt.ylabel(\"Loss\")\n",
        "plt.xlabel(\"Epochs\")\n",
        "plt.legend();"
      ],
      "metadata": {
        "colab": {
          "base_uri": "https://localhost:8080/",
          "height": 295
        },
        "id": "Hw-G8INCNL-I",
        "outputId": "cb056687-dbcd-495d-894d-e9db0517cc25"
      },
      "execution_count": 31,
      "outputs": [
        {
          "output_type": "display_data",
          "data": {
            "text/plain": [
              "<Figure size 432x288 with 1 Axes>"
            ],
            "image/png": "[encoded data removed]"
          },
          "metadata": {
            "needs_background": "light"
          }
        }
      ]
    },
    {
      "cell_type": "code",
      "source": [
        "plot_predictions(predictions=y_preds);"
      ],
      "metadata": {
        "colab": {
          "base_uri": "https://localhost:8080/",
          "height": 428
        },
        "id": "JFQxs9hoqn3E",
        "outputId": "f6011e19-a677-4952-d21a-e3dae8325b6b"
      },
      "execution_count": 33,
      "outputs": [
        {
          "output_type": "display_data",
          "data": {
            "text/plain": [
              "<Figure size 720x504 with 1 Axes>"
            ],
            "image/png": "[encoded data removed]"
          },
          "metadata": {
            "needs_background": "light"
          }
        }
      ]
    },
    {
      "cell_type": "code",
      "source": [
        "weight,bias"
      ],
      "metadata": {
        "colab": {
          "base_uri": "https://localhost:8080/",
          "height": 0
        },
        "id": "6YKnBcZVCsva",
        "outputId": "e81a9b0f-1f5d-4711-d25e-fe1f778bddcd"
      },
      "execution_count": 34,
      "outputs": [
        {
          "output_type": "execute_result",
          "data": {
            "text/plain": [
              "(0.7, 0.3)"
            ]
          },
          "metadata": {},
          "execution_count": 34
        }
      ]
    },
    {
      "cell_type": "code",
      "source": [
        "plot_predictions(predictions=y_preds_new);"
      ],
      "metadata": {
        "colab": {
          "base_uri": "https://localhost:8080/",
          "height": 428
        },
        "id": "COwTnTILCvxr",
        "outputId": "1b757416-b57d-4095-9975-25d075f61476"
      },
      "execution_count": 35,
      "outputs": [
        {
          "output_type": "display_data",
          "data": {
            "text/plain": [
              "<Figure size 720x504 with 1 Axes>"
            ],
            "image/png": "[encoded data removed]"
          },
          "metadata": {
            "needs_background": "light"
          }
        }
      ]
    },
    {
      "cell_type": "markdown",
      "source": [
        "#Saving a Model in Pytorch\n",
        "\n",
        "There are three main methods you should about for saving and loading models in Pytorch \n",
        "\n",
        "1. `torch.save()` - allows you save a PyTorch object in Python's pickle format \n",
        "2. `torch.load()` - allows you to load or save a pyTorch object \n",
        "3. `torch.nn.Module.load_state_dict()` - This allows to load a model's saved state dictionary"
      ],
      "metadata": {
        "id": "7eQUt6VzzoG1"
      }
    },
    {
      "cell_type": "code",
      "source": [
        "model_0.state_dict()"
      ],
      "metadata": {
        "colab": {
          "base_uri": "https://localhost:8080/",
          "height": 0
        },
        "id": "U1ge8p7jIzVP",
        "outputId": "78313cbb-b538-4475-fd72-74323b35003e"
      },
      "execution_count": 36,
      "outputs": [
        {
          "output_type": "execute_result",
          "data": {
            "text/plain": [
              "OrderedDict([('weights', tensor([0.6990])), ('bias', tensor([0.3093]))])"
            ]
          },
          "metadata": {},
          "execution_count": 36
        }
      ]
    },
    {
      "cell_type": "code",
      "source": [
        "#Saving our PyTorch model \n",
        "from pathlib import Path\n",
        "\n",
        "#1.Create models directory\n",
        "MODEL_PATH= Path(\"models\")\n",
        "MODEL_PATH.mkdir(parents=True, exist_ok=True)\n",
        "\n",
        "#2. Create a model save path \n",
        "MODEL_NAME=\"01_pytorch_workflow_model_0.pth\"\n",
        "MODEL_SAVE_PATH = MODEL_PATH / MODEL_NAME\n",
        "\n",
        "MODEL_SAVE_PATH\n",
        "\n",
        "#3. Save the model state dict\n",
        "print(f\"Saving model to: {MODEL_SAVE_PATH}\")\n",
        "torch.save(obj=model_0.state_dict(),f=MODEL_SAVE_PATH)"
      ],
      "metadata": {
        "colab": {
          "base_uri": "https://localhost:8080/"
        },
        "id": "9gRkNt3t0rAh",
        "outputId": "641ae62a-6b03-4821-fde2-2f85d6ac381f"
      },
      "execution_count": 39,
      "outputs": [
        {
          "output_type": "stream",
          "name": "stdout",
          "text": [
            "Saving model to: models/01_pytorch_workflow_model_0.pth\n"
          ]
        }
      ]
    },
    {
      "cell_type": "code",
      "source": [
        "!ls -l models"
      ],
      "metadata": {
        "colab": {
          "base_uri": "https://localhost:8080/"
        },
        "id": "klrboS3_2rBy",
        "outputId": "0a19f571-8544-46c1-ebe2-3d1b094241e2"
      },
      "execution_count": 40,
      "outputs": [
        {
          "output_type": "stream",
          "name": "stdout",
          "text": [
            "total 4\n",
            "-rw-r--r-- 1 root root 1207 Dec 31 15:45 01_pytorch_workflow_model_0.pth\n"
          ]
        }
      ]
    },
    {
      "cell_type": "markdown",
      "source": [
        "#Loading a PyTorch model \n",
        "\n",
        "Since we saved our model's `state_dict()` rather than the entire model, we'll create a new instance of our model class and load the saved `state_dict()` into that.\n"
      ],
      "metadata": {
        "id": "fwz1xE1t38I5"
      }
    },
    {
      "cell_type": "code",
      "source": [
        "# To load in a saved state_dict we have to instantiate a new instance of our model class \n",
        "loaded_model_0 = LinearRegressionModel()\n",
        "\n",
        "#Load the saved state_dict of model_0 (This will update the new instance with updated parameters)\n",
        "loaded_model_0.load_state_dict(torch.load(f=MODEL_SAVE_PATH))\n"
      ],
      "metadata": {
        "colab": {
          "base_uri": "https://localhost:8080/"
        },
        "id": "2vo7qASY3VtE",
        "outputId": "78f89bbf-9baa-444a-f966-d2a2f766dd6a"
      },
      "execution_count": 42,
      "outputs": [
        {
          "output_type": "execute_result",
          "data": {
            "text/plain": [
              "<All keys matched successfully>"
            ]
          },
          "metadata": {},
          "execution_count": 42
        }
      ]
    },
    {
      "cell_type": "code",
      "source": [
        "loaded_model_0.state_dict()"
      ],
      "metadata": {
        "colab": {
          "base_uri": "https://localhost:8080/"
        },
        "id": "9znBTYjI48Hb",
        "outputId": "699312ac-35cf-4d4a-d70b-20dd0cebb532"
      },
      "execution_count": 43,
      "outputs": [
        {
          "output_type": "execute_result",
          "data": {
            "text/plain": [
              "OrderedDict([('weights', tensor([0.6990])), ('bias', tensor([0.3093]))])"
            ]
          },
          "metadata": {},
          "execution_count": 43
        }
      ]
    },
    {
      "cell_type": "code",
      "source": [
        "#Make some predictions with our loaded model \n",
        "loaded_model_0.eval()\n",
        "with torch.inference_mode():\n",
        "  loaded_model_preds =loaded_model_0(X_test)\n",
        "loaded_model_preds"
      ],
      "metadata": {
        "colab": {
          "base_uri": "https://localhost:8080/"
        },
        "id": "v6w7Ui6R5tuC",
        "outputId": "1754e01e-225c-4f31-be18-f8af656a05ef"
      },
      "execution_count": 44,
      "outputs": [
        {
          "output_type": "execute_result",
          "data": {
            "text/plain": [
              "tensor([[0.8685],\n",
              "        [0.8825],\n",
              "        [0.8965],\n",
              "        [0.9105],\n",
              "        [0.9245],\n",
              "        [0.9384],\n",
              "        [0.9524],\n",
              "        [0.9664],\n",
              "        [0.9804],\n",
              "        [0.9944]])"
            ]
          },
          "metadata": {},
          "execution_count": 44
        }
      ]
    },
    {
      "cell_type": "code",
      "source": [
        "#Compare loaded model preds with original model preds\n",
        "y_preds_new == loaded_model_preds\n"
      ],
      "metadata": {
        "colab": {
          "base_uri": "https://localhost:8080/"
        },
        "id": "f7g27jPT6Z-0",
        "outputId": "70d09e0e-9c97-4dee-a728-d6825322704a"
      },
      "execution_count": 49,
      "outputs": [
        {
          "output_type": "execute_result",
          "data": {
            "text/plain": [
              "tensor([[True],\n",
              "        [True],\n",
              "        [True],\n",
              "        [True],\n",
              "        [True],\n",
              "        [True],\n",
              "        [True],\n",
              "        [True],\n",
              "        [True],\n",
              "        [True]])"
            ]
          },
          "metadata": {},
          "execution_count": 49
        }
      ]
    },
    {
      "cell_type": "code",
      "source": [
        "y_preds==loaded_model_preds"
      ],
      "metadata": {
        "colab": {
          "base_uri": "https://localhost:8080/"
        },
        "id": "WL4s5qN96kvN",
        "outputId": "68dca788-e5b5-4edf-aed6-7b1bea15baf6"
      },
      "execution_count": 48,
      "outputs": [
        {
          "output_type": "execute_result",
          "data": {
            "text/plain": [
              "tensor([[False],\n",
              "        [False],\n",
              "        [False],\n",
              "        [False],\n",
              "        [False],\n",
              "        [False],\n",
              "        [False],\n",
              "        [False],\n",
              "        [False],\n",
              "        [False]])"
            ]
          },
          "metadata": {},
          "execution_count": 48
        }
      ]
    },
    {
      "cell_type": "code",
      "source": [
        "model_0.eval()\n",
        "with torch.inference_mode():\n",
        "  y_preds=model_0(X_test)\n",
        "\n",
        "y_preds"
      ],
      "metadata": {
        "colab": {
          "base_uri": "https://localhost:8080/"
        },
        "id": "6iBDBv4s61Xu",
        "outputId": "98886c6a-0e17-4ccb-e67a-563e10de3dd7"
      },
      "execution_count": 50,
      "outputs": [
        {
          "output_type": "execute_result",
          "data": {
            "text/plain": [
              "tensor([[0.8685],\n",
              "        [0.8825],\n",
              "        [0.8965],\n",
              "        [0.9105],\n",
              "        [0.9245],\n",
              "        [0.9384],\n",
              "        [0.9524],\n",
              "        [0.9664],\n",
              "        [0.9804],\n",
              "        [0.9944]])"
            ]
          },
          "metadata": {},
          "execution_count": 50
        }
      ]
    },
    {
      "cell_type": "code",
      "source": [
        "y_preds==loaded_model_preds"
      ],
      "metadata": {
        "colab": {
          "base_uri": "https://localhost:8080/"
        },
        "id": "eNYwAhYK7HhT",
        "outputId": "ac1d7b2b-8953-47b5-ac5f-fa72f5617850"
      },
      "execution_count": 51,
      "outputs": [
        {
          "output_type": "execute_result",
          "data": {
            "text/plain": [
              "tensor([[True],\n",
              "        [True],\n",
              "        [True],\n",
              "        [True],\n",
              "        [True],\n",
              "        [True],\n",
              "        [True],\n",
              "        [True],\n",
              "        [True],\n",
              "        [True]])"
            ]
          },
          "metadata": {},
          "execution_count": 51
        }
      ]
    },
    {
      "cell_type": "markdown",
      "source": [
        "### Putting it all together\n",
        "\n",
        "Let's go back through the steps above and see it all in one place.\n"
      ],
      "metadata": {
        "id": "_95qtccM7nW5"
      }
    },
    {
      "cell_type": "code",
      "source": [
        "#import Pytorch and matplotlib\n",
        "import torch \n",
        "from torch import nn \n",
        "import matplotlib.pyplot as plt\n",
        "\n"
      ],
      "metadata": {
        "id": "835jR5nC7Lit"
      },
      "execution_count": 53,
      "outputs": []
    },
    {
      "cell_type": "code",
      "source": [
        "#Create some data using the linear Regression formula of y=weight*X+bias\n",
        "weight=0.7\n",
        "bias=0.3\n",
        "\n",
        "#Create range values \n",
        "start=0\n",
        "end=1\n",
        "step=0.02\n",
        "\n",
        "#Create X and Y (features and ranges)\n",
        "X=torch.arange(start,end,step).unsqueeze(dim=1) #without unsqueeze errors pops up\n",
        "y=weight*X+bias\n",
        "X[:10],y[:10]\n"
      ],
      "metadata": {
        "colab": {
          "base_uri": "https://localhost:8080/"
        },
        "id": "FJueLa5I-x9W",
        "outputId": "8d20f133-c995-4663-a0e8-db2eaea1c226"
      },
      "execution_count": 56,
      "outputs": [
        {
          "output_type": "execute_result",
          "data": {
            "text/plain": [
              "(tensor([[0.0000],\n",
              "         [0.0200],\n",
              "         [0.0400],\n",
              "         [0.0600],\n",
              "         [0.0800],\n",
              "         [0.1000],\n",
              "         [0.1200],\n",
              "         [0.1400],\n",
              "         [0.1600],\n",
              "         [0.1800]]), tensor([[0.3000],\n",
              "         [0.3140],\n",
              "         [0.3280],\n",
              "         [0.3420],\n",
              "         [0.3560],\n",
              "         [0.3700],\n",
              "         [0.3840],\n",
              "         [0.3980],\n",
              "         [0.4120],\n",
              "         [0.4260]]))"
            ]
          },
          "metadata": {},
          "execution_count": 56
        }
      ]
    },
    {
      "cell_type": "code",
      "source": [
        "#Split the data \n",
        "train_split=int(0.8*len(X))\n",
        "X_train, y_train=X[:train_split],y[:train_split]\n",
        "X_test,y_test=X[train_split:],y[train_split:]\n",
        "len(X_test),len(y_test),len(X_train),len(y_train)"
      ],
      "metadata": {
        "colab": {
          "base_uri": "https://localhost:8080/"
        },
        "id": "xIYeBBGg-yHV",
        "outputId": "8a89f01a-1803-4a32-cc07-ef4e9975458e"
      },
      "execution_count": 57,
      "outputs": [
        {
          "output_type": "execute_result",
          "data": {
            "text/plain": [
              "(10, 10, 40, 40)"
            ]
          },
          "metadata": {},
          "execution_count": 57
        }
      ]
    },
    {
      "cell_type": "code",
      "source": [
        "#Plot the data \n",
        "#Note:If you don't have the plot_predictions() function loaded,this will error\n",
        "plot_predictions(X_train,y_train,X_test,y_test)"
      ],
      "metadata": {
        "colab": {
          "base_uri": "https://localhost:8080/",
          "height": 428
        },
        "id": "m0LkY-tNA8B6",
        "outputId": "62beb9ca-c90a-4244-ee05-056c2f1a2b1d"
      },
      "execution_count": 58,
      "outputs": [
        {
          "output_type": "display_data",
          "data": {
            "text/plain": [
              "<Figure size 720x504 with 1 Axes>"
            ],
            "image/png": "[encoded data removed]"
          },
          "metadata": {
            "needs_background": "light"
          }
        }
      ]
    },
    {
      "cell_type": "code",
      "source": [
        "from torch import nn\n",
        "class LinearRegressionModelV2(nn.Module):\n",
        "  def __init__(self):\n",
        "    super().__init__()\n",
        "    #Use nn.linear() for creating the model parameters/Also called linear Transform ,probing layer,fully connected layer,dense layer\n",
        "    self.linear_layer = nn.Linear(in_features=1,out_features=1)\n",
        "\n",
        "  def forward(self,x:torch.Tensor)-> torch.Tensor:\n",
        "    return self.linear_layer(x)\n",
        "#set the manual seed(42)\n",
        "torch.manual_seed(42)\n",
        "model_1=LinearRegressionModelV2()\n",
        "model_1,model_1.state_dict()"
      ],
      "metadata": {
        "colab": {
          "base_uri": "https://localhost:8080/"
        },
        "id": "iuvqi2pnBUDN",
        "outputId": "c36766ca-f27b-4867-f9f0-6c50adde5995"
      },
      "execution_count": 60,
      "outputs": [
        {
          "output_type": "execute_result",
          "data": {
            "text/plain": [
              "(LinearRegressionModelV2(\n",
              "   (linear_layer): Linear(in_features=1, out_features=1, bias=True)\n",
              " ),\n",
              " OrderedDict([('linear_layer.weight', tensor([[0.7645]])),\n",
              "              ('linear_layer.bias', tensor([0.8300]))]))"
            ]
          },
          "metadata": {},
          "execution_count": 60
        }
      ]
    },
    {
      "cell_type": "code",
      "source": [
        "#check the model current device \n",
        "next(model_1.parameters()).device"
      ],
      "metadata": {
        "colab": {
          "base_uri": "https://localhost:8080/"
        },
        "id": "i50bCFSIBon_",
        "outputId": "c130b8ac-713d-4af1-bfc6-015147334b3e"
      },
      "execution_count": 61,
      "outputs": [
        {
          "output_type": "execute_result",
          "data": {
            "text/plain": [
              "device(type='cpu')"
            ]
          },
          "metadata": {},
          "execution_count": 61
        }
      ]
    },
    {
      "cell_type": "code",
      "source": [
        "loss_fn=nn.L1Loss()"
      ],
      "metadata": {
        "id": "gDY5JW1rJA9X"
      },
      "execution_count": 63,
      "outputs": []
    },
    {
      "cell_type": "code",
      "source": [
        "optimizer=torch.optim.SGD(params=model_1.parameters(),lr=0.01)"
      ],
      "metadata": {
        "id": "AN5wtGCcJJ7q"
      },
      "execution_count": 65,
      "outputs": []
    },
    {
      "cell_type": "code",
      "source": [
        "torch.manual_seed(42)\n",
        "\n",
        "epochs =200\n",
        "\n",
        "for epoch in range (epochs):\n",
        "  model_1.train()\n",
        "\n",
        "  y_pred=model_1(X_train)\n",
        "\n",
        "  loss=loss_fn(y_pred,y_train)\n",
        "\n",
        "  optimizer.zero_grad()\n",
        "\n",
        "  loss.backward()\n",
        "\n",
        "  optimizer.step()\n",
        "\n",
        "  model_1.eval()\n",
        "  \n",
        "  with torch.inference_mode():\n",
        "    test_pred=model_1(X_test)\n",
        "    test_loss=loss_fn(test_pred,y_test)\n",
        "  if epoch %10==0:\n",
        "    print(f\"Epoch: {epoch} | Loss:{loss} | Test loss : {test_loss}\")\n",
        "    "
      ],
      "metadata": {
        "colab": {
          "base_uri": "https://localhost:8080/"
        },
        "id": "U-8xMcuLJZCy",
        "outputId": "40132039-be7a-4585-9acc-c326508901be"
      },
      "execution_count": 68,
      "outputs": [
        {
          "output_type": "stream",
          "name": "stdout",
          "text": [
            "Epoch: 0 | Loss:0.0012645035749301314 | Test loss : 0.013801807537674904\n",
            "Epoch: 10 | Loss:0.0012645035749301314 | Test loss : 0.013801807537674904\n",
            "Epoch: 20 | Loss:0.0012645035749301314 | Test loss : 0.013801807537674904\n",
            "Epoch: 30 | Loss:0.0012645035749301314 | Test loss : 0.013801807537674904\n",
            "Epoch: 40 | Loss:0.0012645035749301314 | Test loss : 0.013801807537674904\n",
            "Epoch: 50 | Loss:0.0012645035749301314 | Test loss : 0.013801807537674904\n",
            "Epoch: 60 | Loss:0.0012645035749301314 | Test loss : 0.013801807537674904\n",
            "Epoch: 70 | Loss:0.0012645035749301314 | Test loss : 0.013801807537674904\n",
            "Epoch: 80 | Loss:0.0012645035749301314 | Test loss : 0.013801807537674904\n",
            "Epoch: 90 | Loss:0.0012645035749301314 | Test loss : 0.013801807537674904\n",
            "Epoch: 100 | Loss:0.0012645035749301314 | Test loss : 0.013801807537674904\n",
            "Epoch: 110 | Loss:0.0012645035749301314 | Test loss : 0.013801807537674904\n",
            "Epoch: 120 | Loss:0.0012645035749301314 | Test loss : 0.013801807537674904\n",
            "Epoch: 130 | Loss:0.0012645035749301314 | Test loss : 0.013801807537674904\n",
            "Epoch: 140 | Loss:0.0012645035749301314 | Test loss : 0.013801807537674904\n",
            "Epoch: 150 | Loss:0.0012645035749301314 | Test loss : 0.013801807537674904\n",
            "Epoch: 160 | Loss:0.0012645035749301314 | Test loss : 0.013801807537674904\n",
            "Epoch: 170 | Loss:0.0012645035749301314 | Test loss : 0.013801807537674904\n",
            "Epoch: 180 | Loss:0.0012645035749301314 | Test loss : 0.013801807537674904\n",
            "Epoch: 190 | Loss:0.0012645035749301314 | Test loss : 0.013801807537674904\n"
          ]
        }
      ]
    },
    {
      "cell_type": "code",
      "source": [
        "model_1.state_dict()"
      ],
      "metadata": {
        "colab": {
          "base_uri": "https://localhost:8080/"
        },
        "id": "9SH7KnCGJmT2",
        "outputId": "3a77d1fa-bcf0-45e8-b5b0-88b7fa9d5f3d"
      },
      "execution_count": 70,
      "outputs": [
        {
          "output_type": "execute_result",
          "data": {
            "text/plain": [
              "OrderedDict([('linear_layer.weight', tensor([[0.6968]])),\n",
              "             ('linear_layer.bias', tensor([0.3025]))])"
            ]
          },
          "metadata": {},
          "execution_count": 70
        }
      ]
    },
    {
      "cell_type": "code",
      "source": [],
      "metadata": {
        "id": "ytLoypEnK2yf"
      },
      "execution_count": null,
      "outputs": []
    }
  ]
}